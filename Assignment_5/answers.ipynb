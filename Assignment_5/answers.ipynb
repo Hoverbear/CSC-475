{
 "cells": [
  {
   "cell_type": "markdown",
   "metadata": {},
   "source": [
    "# CSC 475 Assignment 5\n",
    "\n",
    "Andrew Hobden V00788452"
   ]
  },
  {
   "cell_type": "markdown",
   "metadata": {},
   "source": [
    "## Q1\n",
    "\n",
    "> How are the pulse sequences used to refine the tempo estimation in the paper by Percival and Tzanetakis?\n",
    "\n",
    "An 'ideal' set of pulse sequences each corresponding to particular tempo and downbeat locations are autocorrelated against the sample's onset signal strength. The variance is 'scored' against the various candidates. These pulse sequences are time shifted by various amounts. It presume the tempo will not change during a given sample size of approximately 6 seconds. This time span is determined due to observed common bpm occurences.\n",
    "\n",
    "\n",
    "> Why is the beat tracking system described by Oliveira et al described as multi-agent? What are the agents?\n",
    "\n",
    "Using an initial induction hypothesis an initial set of *K* beat agents are created. Each agent's predictions are evaluated with respect to the local maximum. These agents adapt based on their evaluations through the sample's length either by changing their behaivor or spawning new children. Agents are killed due to replacement, redundancy, obselescence, or loss. These agents are beat predictors.\n",
    "\n",
    "> What are the most common errors in tempo estimation?  What strategy is used to reduce them in Percival and Tzanetakis?\n",
    "\n",
    "The most frequent errors in tempo estimation are octave errors. These occur when the estimated tempo is half or double (or trice or a third) of the true value. This has been noted to be a common error in human tapping as well. Recently machine learning techniques have been employed to classify tempo as \"slow\", \"medium\", and \"fast\" using priors of sample's class. This can then be used to constrain the estimated tempo."
   ]
  },
  {
   "cell_type": "markdown",
   "metadata": {},
   "source": [
    "## Q2"
   ]
  },
  {
   "cell_type": "code",
   "execution_count": null,
   "metadata": {
    "collapsed": true
   },
   "outputs": [],
   "source": []
  }
 ],
 "metadata": {
  "kernelspec": {
   "display_name": "Python 2",
   "language": "python2",
   "name": "python2"
  },
  "language_info": {
   "codemirror_mode": {
    "name": "ipython",
    "version": 2
   },
   "file_extension": ".py",
   "mimetype": "text/x-python",
   "name": "python",
   "nbconvert_exporter": "python",
   "pygments_lexer": "ipython2",
   "version": "2.7.11"
  }
 },
 "nbformat": 4,
 "nbformat_minor": 0
}
