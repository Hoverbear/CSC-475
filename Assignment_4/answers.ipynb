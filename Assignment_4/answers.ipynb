{
 "cells": [
  {
   "cell_type": "markdown",
   "metadata": {},
   "source": [
    "# Q1 - Tangibles\n",
    "\n",
    "\n",
    "## Reactable\n",
    "\n",
    "Reactable is something I saw several years ago and found fascinating. I saw it roughly the same time as the Micrsoft Surface Table. The idea of using \"board pieces\" to facilitate tangible contact, something lacking in many touch screen interfaces. It looks like a very approachable device that can be utilized and explored by even someone unfamiliar with music or technology. The \"linking\" of the various pieces seemed slightly unrefined but I'm not sure of a better way.\n",
    "\n",
    "## Tangible Sequencer\n",
    "\n",
    "This particular tangible seems simple. For me it seemed like it would be a useful tool to use for instruction and teaching concepts. I've been working with Science Venture I could see utilizing a tangible like this to help teach some concepts. Best of all it seems like this tangible would be well suited to a few persons could interact with the tangible at the same time to collaboratively create things.\n",
    "\n",
    "## Scrapple\n",
    "\n",
    "This table seems like it would be very interested to include in a musical performance. The idea of it seems quite flexible and I liked how it encouraged a gradual and subtle changing over time, the simple necessity of needing to walk 3 meters to get to the other end of the table made it so. I'm interested in if this idea could be extended to act include samples or other elements.\n",
    "\n",
    "# Q2 - Creation\n",
    "\n",
    "This idea builds off the idea of the \"Reactable\" to create an interactive art exhibit. The various \"pieces\" of the exhibit have different components which can be manipulated, rotated, or relocated to change the interaction of the piece with the rest of the exhibit.\n",
    "\n",
    "The various pieces could be connected into a central audio unit with analog inputs which is could then take as inputs and use them as inputs into a various algorithms such as gains, tone generators, monotonic beats, and mixers. Additionally these inputs could be used to build other atmospheric effects such as lighting. This would create a *whole space* atmosphere for the participants in the exhibit.\n",
    "\n",
    "The \"pieces\" of the exhibit could be any number of things from sculpture, mosaic-esque pieces, performance art (using image recognition), the observer's positions or movements, or even other instruments. This is deeply contrasted against the traditional keyboard/screen/mouse interaction as participants are actually interacting with a tangible space and manipulating artist creations. This facilitates multi-user interaction and does not draw the users away from their experience like a screen, keyboard, and mouse.\n",
    "\n"
   ]
  },
  {
   "cell_type": "code",
   "execution_count": null,
   "metadata": {
    "collapsed": true
   },
   "outputs": [],
   "source": []
  }
 ],
 "metadata": {
  "kernelspec": {
   "display_name": "Python 2",
   "language": "python2",
   "name": "python2"
  },
  "language_info": {
   "codemirror_mode": {
    "name": "ipython",
    "version": 2
   },
   "file_extension": ".py",
   "mimetype": "text/x-python",
   "name": "python",
   "nbconvert_exporter": "python",
   "pygments_lexer": "ipython2",
   "version": "2.7.11"
  }
 },
 "nbformat": 4,
 "nbformat_minor": 0
}
